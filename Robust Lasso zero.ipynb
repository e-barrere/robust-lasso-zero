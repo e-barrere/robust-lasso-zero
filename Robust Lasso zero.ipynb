{
  "cells": [
    {
      "cell_type": "markdown",
      "metadata": {
        "id": "0makW8OhJu2_"
      },
      "source": [
        "# **Robust Lasso Zero : Compressed Sensing Project**\n",
        "\n",
        "Elise Barrère (ENSAE) | Yannis Bouachera (ENSAE)\n",
        "\n",
        "**Paper** : Robust Lasso-Zero for sparse corruption and model selection with missing covariates (*Scandinavian Journal of Statistics*, 2020)\n",
        "\n",
        "**Authors** : Pascaline Descloux, Claire Boyer, Julie Josse, Aude Sportisse, and Sylvain Sardy"
      ]
    },
    {
      "cell_type": "markdown",
      "metadata": {
        "id": "gle__6FHJu3D"
      },
      "source": [
        "## Table of Content:\n",
        "* [Introduction](#first-bullet)\n",
        "* [Description of the algorithms](#2-bullet)\n",
        "    * [Lasso Zero](#alg-lass0)\n",
        "    * [Robust Lasso Zero](#alg-Rlass0)\n",
        "* [Theoretical results on Thresholded Justice Pursuit](#third-bullet)\n",
        "    * [First result](#1-res)\n",
        "    * [Second result](#2-res)\n",
        "    * [Application on Missing covariates](#application)\n",
        "* [Implementation](#implementation)\n",
        "    * [Lasso Zero Functions](#l0functions)\n",
        "    * [Robust Lasso Zero function](#Rl0functions)\n",
        "* [Simulations](#simulations)\n",
        "    * [Example of code](#excode)\n",
        "    * [Results](#results)\n",
        "* [Extension](#extension)\n",
        "* [Conclusion](#conclusion)\n",
        "* [Appendix](#appendix)\n",
        "    * [Simulations with *s*-oracle hyperparameter tuning](#soracle)"
      ]
    },
    {
      "cell_type": "markdown",
      "metadata": {
        "id": "DlXHfkcyJu3E"
      },
      "source": [
        "<a class=\"anchor\" id=\"first-bullet\"></a>\n",
        "## Introduction"
      ]
    },
    {
      "cell_type": "markdown",
      "metadata": {
        "id": "k3CYlpQQkcOJ"
      },
      "source": [
        "The authors propose an extension of their Lasso Zero method (initially designed for sparse linear models) to the sparse corruption problem, with an interesting application to the problem of variable selection with missing covariates.\n",
        "Before describing the different results and algorithms proposed by the authors, we give a short reminder on some important concepts and notations : \n",
        "\n",
        "- A sparse linear model can be defined as follows : \n",
        "$$ y =  Xβ^0 + \\epsilon $$\n",
        "Where $\\epsilon \\in \\mathbb{R^n}$ is gaussian noise vector, $X \\in \\mathbb{R^{n \\times p}}$ with p> n and $\\beta^0 \\in \\mathbb{R^p}$ is s-sparse. \n",
        "- The sparse corruption problem is a more general version of sparse linear models  : \n",
        "$$ y =  Xβ^0 + \\sqrt{n}\\omega^0 + \\epsilon $$ \n",
        "where $\\omega^0 \\in \\mathbb{R^n}$ is k-sparse.\n",
        "- The Basis Pursuit (BP) problem is defined as :  \n",
        "\t$$ \\min_{\\beta \\in \\mathbb{R^p}}  \\|\\beta\\|_1 \\quad s.t \\quad y =  Xβ \\quad \\quad \\mbox{(BP)} $$\n",
        "- If $T$ is a finite set of integers and $X \\in \\mathbb{R^{n \\times p}}$ , $X_T$ denotes the submatrix of size $n \\times |T|$ indexed by T\n",
        "- $ \\overline{T}$  denotes the complementary set of T.\n",
        "\n"
      ]
    },
    {
      "cell_type": "markdown",
      "metadata": {
        "id": "FzQhApmUkfw5"
      },
      "source": [
        "## Description of the algorithms\n",
        "<a class=\"anchor\" id=\"2-bullet\"></a>"
      ]
    },
    {
      "cell_type": "markdown",
      "metadata": {
        "id": "_KBhjcsJeMx-"
      },
      "source": [
        "### **Lasso zero** \n",
        "<a class=\"anchor\" id=\"alg-lass0\"></a>\n",
        "\n",
        "In order to adapt BP to noisy data, it is natural to think about allowing $Y-X\\beta$ to be positive, but not too high : \n",
        " $$\n",
        "\t\\min_{\\beta \\in \\mathbb{R^p}}  \\|\\beta\\|_1 \\quad s.t \\quad \\|y-Xβ\\|_2 \\le \\theta \\quad \\quad \\mbox{(BP denoising)}$$\n",
        "\n",
        "NB : This Basic Pursuit denoising method has been shown to be equivalent to LASSO :\n",
        "$$\n",
        "\t\\min_{\\beta \\in \\mathbb{R^p} , \\omega \\in \\mathbb{R^n}}  \\frac{1}{2}\\|y - X\\beta\\|_2^2 + \\lambda_\\beta \\|\\beta\\|_1  \\quad \\quad \\mbox{(LASSO)}\n",
        "$$ \\\\\n",
        "\n",
        "However, the authors showed that it was actually more interesting to overfit Y by running a BP, and then to threshold  the result to keep only large coefficients. This is the \"overfit-threshold method\" at the core of both Lasso zero and Robust Lasso zero. \n",
        "Nonetheless, in practice, the signal is often too low to use this method. The authors thus propose to use a noise-dictionnary (random gaussian matrix G) :\n",
        "If  $rank(G) =n \\quad$ then $∃ \\gamma_{\\epsilon,G}, \\quad \\epsilon = G\\gamma_{\\epsilon,G}$. It is then possible to apply BP to $y =  Xβ^0 + \\epsilon$ (with an extended design matrix $(X | G)$) in order to estimate $\\beta^0$ and  $\\gamma_{\\epsilon,G}$. The purpose of $G$ is therefore to provide columns which will be selected to fit the noise, allowing $X$ to fit the signal better.\n",
        "The Lasso algorithm actually repeats this procedure several times so the final estimator is less influenced by unfortunate situations where some columns of G are strongly correlated to some columns of X. Here is a detailed version of the algorithm : \n",
        "\n",
        "\n",
        ">1.   For $k = 1, \\dots, M$ : generate $G^{(k)} \\in \\mathbb{R^{n \\times q}} $ with i.i.d $\\mathcal{N}(0,1)$ entries, then compute:\n",
        " $$\n",
        "\t(\\hat{\\beta}^{(k)},\\hat{\\gamma}^{(k)}) = \\underset{\\beta \\in \\mathbb{R^p} , \\gamma \\in \\mathbb{R^q}}{\\text{arg} \\min} {}  \\|\\beta\\|_1 + \\|\\gamma\\|_1 \\quad s.t \\quad y =  Xβ + G^{(k)}\\gamma\n",
        "$$ \n",
        "2. Compute $\\hat{\\beta}^{(l_1)}$ = $\\mbox{median}\\{\\beta^{(k)},  k = 1, \\dots, M$\\}\n",
        "3. Threshold the coefficients : compute $\\hat{\\beta}^{lass0}_j = \\eta_\\tau(\\hat{\\beta}^{(l_1)}_j)$ for $j = 1, \\dots, P$, where $\\eta_\\tau$ is such that $\\eta_\\tau(x)=0 $ if $|x| \\le \\tau$ and $sign(\\eta_\\tau(x)) = sign(x) $ otherwise.\n",
        "\n"
      ]
    },
    {
      "cell_type": "markdown",
      "metadata": {
        "id": "SPAdivMy1JXF"
      },
      "source": [
        "### **Robust Lasso zero**\n",
        "<a class=\"anchor\" id=\"alg-Rlass0\"></a>\n",
        "\n",
        "Robust Lasso zero consists in a modified version of the Lasso zero in which Basis Pursuit is replaced by Justice Pursuit: $$\n",
        "\t(\\hat{\\beta}^{JP}_\\lambda,\\hat{\\omega}^{JP}_\\lambda) = \\underset{\\beta \\in \\mathbb{R^p} ,\\omega \\in \\mathbb{R^n}}{\\text{arg} \\min} {}  \\|\\beta\\|_1 +  \\lambda \\|\\omega\\|_1   \\quad s.t \\quad y =  Xβ + \\sqrt{n}\\omega\n",
        "$$ . This change allows to extend Lasso zero to the sparse corruption problem. Here is a detailed version of the algorithm which, this change aside, is in all aspects similar to lasso zero : \n",
        "\n",
        "\n",
        "\n",
        ">1.   For $k = 1, \\dots, M$ : generate $G^{(k)} \\in \\mathbb{R^{n \\times q}} $ with i.i.d $\\mathcal{N}(0,1)$ entries, then compute:\n",
        " $$\n",
        "\t(\\hat{\\beta}^{(k)}_\\lambda,\\hat{\\omega}^{(k)}_\\lambda ,\\hat{\\gamma}^{(k)}_\\lambda) = \\underset{\\beta \\in \\mathbb{R^p} ,\\omega \\in \\mathbb{R^n}, \\gamma \\in \\mathbb{R^q}}{\\text{arg} \\min} {}  \\|\\beta\\|_1 +  \\lambda \\|\\omega\\|_1 +  \\|\\gamma\\|_1 $$ $$s.t \\quad y =  Xβ + \\sqrt{n}\\omega + G^{(k)} \\gamma\n",
        "$$ \n",
        "2. Compute $\\hat{\\beta}^{(l_1)}$ = $\\mbox{median}\\{\\beta^{(k)},  k = 1, \\dots, M$\\}\n",
        "3. Threshold the coefficients : compute $\\hat{\\beta}^{Rlass0}_j = \\eta_\\tau(\\hat{\\beta}^{(l_1)}_j)$ for $j = 1, \\dots, P$, where $\\eta_\\tau$ is such that  $$\\eta_\\tau (x) =\n",
        " \\left\\{\n",
        "    \\begin{array}{ll}\n",
        "        0 & \\mbox{if } |x| < \\tau \\\\\n",
        "        x & \\mbox{otherwise.}\n",
        "    \\end{array}\n",
        "\\right.\n",
        "$$"
      ]
    },
    {
      "cell_type": "markdown",
      "metadata": {
        "id": "G7t2XNgkA5Td"
      },
      "source": [
        "## Theoretical results on Thresholded Justice Pursuit\n",
        "<a class=\"anchor\" id=\"third-bullet\"></a>\n",
        "\n",
        "\n"
      ]
    },
    {
      "cell_type": "markdown",
      "metadata": {
        "id": "CUulETpePZ2P"
      },
      "source": [
        "The authors give interesting theoretical results on a slightly different version of their Robust Lasso zero estimator, in which the noise dictionnaries are discarded. They call this simpler model the Thresholded Justice Pursuit, because it actually consists only in thresholding the result of the Justice Pursuit algorithm :\n",
        "$$ \\hat{\\beta}^{TJP}_{\\lambda,\\tau} = \\eta_\\tau(\\hat{\\beta}^{JP}_{\\lambda}) \\quad \\quad \\hat{\\omega}^{TJP}_{\\lambda,\\tau} = \\eta_\\tau(\\hat{\\omega}^{JP}_{\\lambda}) \\quad \\quad \\mbox{(TJP)}$$"
      ]
    },
    {
      "cell_type": "markdown",
      "metadata": {
        "id": "TGyewBATBEvF"
      },
      "source": [
        "### First result\n",
        "<a class=\"anchor\" id=\"1-res\"></a>"
      ]
    },
    {
      "cell_type": "markdown",
      "metadata": {
        "id": "f4zCl3mrB-eN"
      },
      "source": [
        "The first result gives necessary and sufficient condition for consistent recovery when the design matrix is fixed but the nonzero absolute coefficients tend to infinite. It is based on the notion of identifiability defined below :\n",
        "\n",
        ">**Definition** : $(\\beta^0, \\omega^0) \\in \\mathbb{R^p} \\times \\mathbb{R^n} $ is identifiable w.r.t $X \\in \\mathbb{R^{n\\times p}}$ and $\\lambda > 0$ if it is the unique solution to $\\mbox{(JP)}$ when $y =  Xβ^0 + \\sqrt{n}\\omega^0$.\n",
        "\n",
        "The following lemma proves that the identifiability of $(\\beta^0, \\omega^0)$ only depends on $sign(\\beta^0)$ and $sign(\\omega^0)$ : \n",
        "\n",
        ">**Lemma** : $(\\beta^0, \\omega^0) \\in \\mathbb{R^p} \\times \\mathbb{R^n} $ is identifiable w.r.t $X \\in \\mathbb{R^{n\\times p}}$ and $\\lambda > 0$ if and only if $ \\forall (\\beta, \\omega) \\ne (0,0),\\quad  X\\beta + \\frac{\\sqrt{n}}{\\lambda}\\omega = 0 ⟹ |sign(\\beta^0)^T\\beta + sign(\\omega^0)^T\\omega|< \\|\\beta_\\overline{S^0} \\|_1 +  \\|\\omega_\\overline{T^0} \\|_1 \\quad $, where $S^0$ and $T^0$ respectively denote the support (non-null vectors) of $\\beta^0$ and $\\omega^0$\n",
        "\n",
        "Let $\\{(\\beta^{(r)},\\omega^{(r)}\\}_{r\\in\\mathbb{N}^*}$ a sequence satisfying the following assumptions :    \n",
        "*  $\\exists \\theta \\in \\{-1,0,1\\}^p, \\tilde{\\theta} \\in \\{-1,0,1\\}^n \\quad s.t \\quad \\forall r\\in\\mathbb{N}^*, sign(\\beta^{(r)}) = \\theta $ and $sign(\\omega^{(r)}) = \\tilde{\\theta}$\n",
        "*  $\\underset{r → +∞}{\\text{lim}} {} \\min\\{\\beta^{(r)}_{min},\\omega^{(r)}_{min}\\} = + ∞, $ where $ \\beta_{min} = \\underset{j}{\\text{min }} \\beta_j$.\n",
        "*  $∃q>0, \\quad  \\frac{\\min\\{\\beta^{(r)}_{min},\\omega^{(r)}_{min}\\}}{ \\max\\{\\|\\beta^{(r)}_{min}\\|_∞,\\|\\omega^{(r)}_{min}\\}\\|_∞\\}} \\ge q$\n",
        "\n",
        ">**Theorem 1** : Let $\\lambda >0$ and $X \\in \\mathbb{R^{n\\times p}}$ such that $\\forall y \\in \\mathbb{R}^n$, the solution to $\\mbox{(JP)}$ is unique. Then :\n",
        "* If $(\\theta,\\tilde{\\theta})$ is identifiable, then $\\forall \\epsilon \\in \\mathbb{R^n}, \\exists R>0,\\forall r \\ge R, \\exists \\tau, \\quad  \\left\\{\n",
        "    \\begin{array}{ll}\n",
        "        sign(\\hat{\\beta}^{TJP}_{\\lambda,\\tau}) & = \\theta \\\\\n",
        "        sign(\\hat{\\omega}^{TJP}_{\\lambda,\\tau}) &=\\tilde{\\theta}\n",
        "    \\end{array}\n",
        "\\right.$ \n",
        "* Conversely, let $\\epsilon \\in \\mathbb{R}^n$ and $r \\in \\mathbb{N}^*$. Then :\n",
        "$$ \\mbox{if} \\quad \\exists \\tau>0, \\left\\{\n",
        "    \\begin{array}{ll}\n",
        "        sign(\\hat{\\beta}^{TJP}_{\\lambda,\\tau}) & = \\theta \\\\\n",
        "        sign(\\hat{\\omega}^{TJP}_{\\lambda,\\tau}) &=\\tilde{\\theta}\n",
        "    \\end{array}\n",
        "\\right. \\quad \\mbox{then} \\quad (\\theta,\\tilde{\\theta}) \\quad \\mbox{is identifiable}$$"
      ]
    },
    {
      "cell_type": "markdown",
      "metadata": {
        "id": "5YXDFWdP2a5r"
      },
      "source": [
        "### Second result\n",
        "<a class=\"anchor\" id=\"2-res\"></a>\n",
        "\n",
        "\n"
      ]
    },
    {
      "cell_type": "markdown",
      "metadata": {
        "id": "sIWbatkB2vRr"
      },
      "source": [
        "The second result ensures that, for correlated Gaussian designs and high-enough signal-to-noise ratios, TJP recovers $sign(\\beta^0)$ with a high probability, even with a positive fraction of corruptions."
      ]
    },
    {
      "cell_type": "markdown",
      "metadata": {
        "id": "MYUar99t3ilX"
      },
      "source": [
        "The following assumptions will be used in the theorem below :\n",
        "* the rows of $X \\in \\mathbb{R^{n\\times p}}$ are random and i.i.d $ ̰\\sim \\mathcal{N}(0,\\Sigma)$\n",
        "* $ \\lambda_{min} > 0$ with $\\lambda_{min}(\\Sigma) : = \\min sp(\\Sigma)$\n",
        "* the variance of the covariates is equal to one\n",
        "* The noise is assumed to be gaussian :  $\\epsilon \\sim \\mathcal{N}(0,\\sigma^2 I_n)$\n",
        "\n",
        "> **Theorem 2** : under the aforementioned assumptions, choosing $\\lambda = \\frac{1}{\\sqrt{\\log(p)}}$ ensures that with probability greater than $1 - ce^{c'n} -\\frac{1.14}{n} - 2e^{-\\frac{1}{s}(\\sqrt{p}-\\sqrt{n})^2}$, we have :\n",
        "$$\\exists \\tau>0, \\quad sign(\\hat{\\beta}^{TJP}_{\\lambda,\\tau}) = sign(\\beta_0)$$\n",
        "given that ($C,C',C''$ being numerical constants with $C>144^2$):\n",
        "* $n \\ge C\\lambda_{max}(\\Sigma)s\\log(p)$\n",
        "* $\\frac{n}{k} > max\\{\\frac{1}{C'},\\frac{\\lambda_{max}(\\Sigma)}{C''\\lambda_{min}(\\Sigma)}\\}$ \n",
        "* $\\beta^0_{min} > \\frac{10\\sqrt{2}\\max\\{1,\\lambda\\}\\sigma\\sqrt{p+n}}{\\sqrt{\\frac{\\lambda_{min}(\\Sigma)}{4}(\\sqrt{\\frac{p}{n}}-1)^2+1}}$\n"
      ]
    },
    {
      "cell_type": "markdown",
      "metadata": {
        "id": "ggBMF5juOs7H"
      },
      "source": [
        "## Application to model selection with missing covariates\n",
        "<a class=\"anchor\" id=\"appliction\"></a>"
      ]
    },
    {
      "cell_type": "markdown",
      "metadata": {
        "id": "1ggjBRP7O-Dd"
      },
      "source": [
        "Before getting into the subject, let's clarify the different missing-data mechanisms (when a matrix $X^{NA}$ with missing values is observed instead of  $X$ ):\n",
        "*  When data is missing completely at random (**MCAR**), the events that lead to the missing data are independent both of observable variables and of unobservable parameters of interest, and occur entirely at random\n",
        "* In the case of missing at random data (**MAR**), the missingness of a variable is not random, but only depends on other observed variables with complete information.\n",
        "* Finally, in the more general case of data missing non at random (**MNAR**), the missingness of a variable also depends on its own value.\n",
        "\n",
        "Missing data is a challenging problem in high-dimension settings, as discarding an entire row because of one missing value becomes very inadapted. Other solutions have been found, but often rely on strong assumptions \n",
        "on the missing value mechanism (e.g supposing the data is MNAR), a lot of parameters tuning or strong assumption on the covariates distribution.\n",
        "\n",
        "The authors thus propose to apply Robust Lasso zero to the problem of missing covariates. This method is very interesting because it handles MNAR values without specifying a parametric model. Besides, this method doesn't require to specify a model for the covariates, nor to estimate their covariance matrix.\n",
        "\n",
        "To apply Robust Lasso zero to the missing covariates problem, the authors showed that it could be easily reformulated into a sparse corruption problem. The complete procedure is detailed below:\n",
        "\n",
        "> **Robust Lasso zero for missing data**\n",
        "1.   complete the matrix $X^{NA}$ with some values to get a completed matrix $\\tilde{X}$\n",
        "2.  Rewrite the linear problem ($y =  \\tilde{X}β^0 + \\epsilon$) into a sparse corruption problem ($y =  \\tilde{X}β^0 + \\sqrt{n}\\omega^0 + \\epsilon$) with $w^0=\\frac{1}{\\sqrt{n}}(X-\\tilde{X})\\beta^0$.\n",
        "3. Rescale $\\tilde{X}$ so all of its columns have an euclidean norm of $\\sqrt{n}$\n",
        "4. Apply Robust Lasso zero algorithm with the design matrix $\\tilde{X}$\n",
        "\n",
        "\n",
        "\n"
      ]
    },
    {
      "cell_type": "markdown",
      "metadata": {
        "id": "jOJVuXPcjYao"
      },
      "source": [
        "In the special case model selection with missing covariates, we have : $\\beta^0=0 ⟹\\omega^0=0$, which means that under the null model, there is no sparse corruption. This allows to use the **Quantile Universal Thresholding (QUT)** methodology to choose the value of $\\tau$.\n",
        "\n",
        "QUT consists in controlling the probability of correctly recognizing the null model when $\\beta^0 = 0$ : the QUT threshold is such that $P(\\tilde{\\beta}=0)=1-\\alpha$ When $\\beta^0 = 0$.\n",
        "\n",
        "If $\\lambda$ and $\\tilde{X}$ are fixed, knowing that $\\hat{\\beta}^{Rlass0}_j = \\eta_\\tau(\\hat{\\beta}^{(l_1)}_j)$ with $\\eta_\\tau (x) =\n",
        " \\left\\{\n",
        "    \\begin{array}{ll}\n",
        "        0 & \\mbox{if } |x| < \\tau \\\\\n",
        "        x & \\mbox{otherwise.}\n",
        "    \\end{array}\n",
        "\\right.$, the QUT value of $\\tau$ is the upper $\\alpha$-quantile of $\\|\\hat{\\beta}^{(l1)}_\\lambda(\\epsilon)\\|_∞$, which can be computed efficiently by exploiting the noise coefficients $\\hat{\\gamma^{(k)}}$ of Robust Lasso-Zero to pivotize $\\|\\hat{\\beta}^{(l1)}_\\lambda(\\epsilon)\\|_∞$ .\n",
        "\n",
        "The only other hyperparameter is $\\lambda$, which the authors recommend to set to 1."
      ]
    },
    {
      "cell_type": "markdown",
      "metadata": {
        "id": "fg4Kwdz1xnOM"
      },
      "source": [
        "## Implementation\n",
        "<a class=\"anchor\" id=\"implementation\"></a>"
      ]
    },
    {
      "cell_type": "code",
      "execution_count": null,
      "metadata": {
        "ExecuteTime": {
          "end_time": "2022-03-23T18:04:15.481322Z",
          "start_time": "2022-03-23T18:04:15.469031Z"
        },
        "id": "Sjo0boXt6o2O"
      },
      "outputs": [],
      "source": [
        "# if on Google colab uncomment this \n",
        "# !pip install scipy --upgrade "
      ]
    },
    {
      "cell_type": "code",
      "execution_count": 1,
      "metadata": {
        "ExecuteTime": {
          "end_time": "2022-03-23T18:04:19.443022Z",
          "start_time": "2022-03-23T18:04:15.610166Z"
        },
        "id": "lwaQvlYOslX8"
      },
      "outputs": [],
      "source": [
        "import numpy as np\n",
        "from scipy import optimize, linalg\n",
        "from scipy.stats import genextreme as gev\n",
        "from sklearn.linear_model import LinearRegression\n",
        "from copy import deepcopy\n",
        "import pandas as pd"
      ]
    },
    {
      "cell_type": "markdown",
      "metadata": {
        "id": "otdGQo6myqwF"
      },
      "source": [
        "We will implement below the same simulation framework as described in the paper. We generate $X$ and $y$ such that $y = X\\beta_0 + ϵ$ where $X \\in \\mathbf{R}^{n \\times p} $, $\\beta_0 \\in {R}^{p}$ and $\\epsilon \\in {R}^{n}$ represents the Gaussian noise of variance $\\sigma²$. \n",
        "\n",
        "We take $n=100$ and $p=200$ and we generate X by drawing $n$ = 100 observations from a Gaussian distribution $N(0, \\Sigma)$ , where $\\Sigma$ is a Toeplitz matrix which coefficients are a function of $\\rho$ the correlation parameter. ($\\Sigma_{i,j} = \\rho^{|i-j|}$ so when $\\rho$ is 0 then $\\Sigma$ is the identity). \n",
        "\n",
        "We generate $\\beta$ by first choosing following uniform distribution among the indexes of $\\beta$ which $s$ elements are going to be non-null. Then we draw the non null elements from a normal distribution of the set $\\{-1,1\\}$.\n"
      ]
    },
    {
      "cell_type": "code",
      "execution_count": null,
      "metadata": {
        "ExecuteTime": {
          "end_time": "2022-03-23T18:04:19.547828Z",
          "start_time": "2022-03-23T18:04:19.447087Z"
        },
        "id": "3QsQ5bSKyDup"
      },
      "outputs": [],
      "source": [
        "n = 100  # sample size\n",
        "p = 200  # number of covariates\n",
        "sigma = 0.5  # noise level\n",
        "rho = 0  # correlation parameter\n",
        "Sigma = linalg.toeplitz([rho**k for k in range(p)])\n",
        "s = 3  # sparsity index for beta^0\n",
        "\n",
        "S = np.random.randint(0, p, s)\n",
        "beta = np.zeros(p)\n",
        "beta[S] = 1*np.sign(np.random.normal(size=s))\n",
        "\n",
        "X = np.random.multivariate_normal(np.zeros(p), Sigma, size=(n))\n",
        "X = X - np.mean(X, axis=0)\n",
        "X /= np.std(X, axis=0)\n",
        "\n",
        "y = np.dot(X[:,S], beta[S]) + np.random.normal(size=n, scale=sigma)"
      ]
    },
    {
      "cell_type": "markdown",
      "metadata": {
        "id": "mcm4Fp_5xXY8"
      },
      "source": [
        "### Lasso Zero Functions \n",
        "<a class=\"anchor\" id=\"l0functions\"></a>"
      ]
    },
    {
      "cell_type": "markdown",
      "metadata": {
        "id": "e25Sq9Yt1IKk"
      },
      "source": [
        "Before we go any further in the simulation, let's define our Basis Pursuit function. We are using ''scipy.optimize.linprog'' which minimizes \n",
        "$$(linprog)\\ :\\ \\beta^* \\in \\arg \\min_{\\beta \\in \\mathbb{R}^p} \\{  <c,\\beta> s.t. A\\beta=b\\}. $$\n",
        " \n",
        "\n",
        "In our case we want to minimise $$(BP)\\ :\\ \\beta^* \\in \\arg \\min_{\\beta \\in \\mathbb{R}^p} \\{ \\Vert w \\Vert_1 \\ s.t. X\\beta = y.\\} $$\n",
        "\n",
        "$\\beta^*$ is solution to $(BP)$ if $\\beta^*_{BP} = \\beta^*_{linprog}|_+ -\\beta_{linprog}^*|_-$ is solution to $(linprog)$ with $c = (1,...1), c \\in \\mathbb{R}^{2p}$ and $A = [X, -X]$ ."
      ]
    },
    {
      "cell_type": "code",
      "execution_count": null,
      "metadata": {
        "ExecuteTime": {
          "end_time": "2022-03-23T18:04:19.704330Z",
          "start_time": "2022-03-23T18:04:19.683358Z"
        },
        "id": "UWrTRh9d1HI6"
      },
      "outputs": [],
      "source": [
        "def BP(X, y):\n",
        "    \"\"\"Basis Pursuit function\n",
        "\n",
        "    Args:\n",
        "        X (ndarray): input of the constraint\n",
        "        y (ndarray): input of the constrait (right side)\n",
        "\n",
        "    Returns:\n",
        "        ndarray: beta\n",
        "    \"\"\"\n",
        "    _, p = np.shape(X)\n",
        "    n = y.shape[0]\n",
        "\n",
        "    obj = np.ones(2*p)\n",
        "\n",
        "    beq = y\n",
        "    A_eq = np.hstack([X, -X])\n",
        "\n",
        "    res = optimize.linprog(c=obj,  A_eq=A_eq,\n",
        "                           b_eq=beq, method='highs-ds')\n",
        "    return res.x[:p] - res.x[-p:]"
      ]
    },
    {
      "cell_type": "markdown",
      "metadata": {
        "id": "Q43bgP5Q5PYz"
      },
      "source": [
        "Now that we have defined our Basis Pursuit algorithm, lets implement a function that does the first step of the Lasso algorithm (that is add a $G$ matrix of noise to $X$)"
      ]
    },
    {
      "cell_type": "code",
      "execution_count": null,
      "metadata": {
        "ExecuteTime": {
          "end_time": "2022-03-23T18:04:19.974204Z",
          "start_time": "2022-03-23T18:04:19.957403Z"
        },
        "id": "t780wjPt4ylH"
      },
      "outputs": [],
      "source": [
        "def M_BP(X, y, meancenterG, standardizeG,  q=None, M=30, returnGammas=True):\n",
        "    \"\"\"_summary_\n",
        "\n",
        "    Args:\n",
        "        X (ndarray): covariates\n",
        "        y (ndarray): objective\n",
        "        meancenterG (bool): determines of we standardize G (mean)\n",
        "        standardizeG (bool): determines of we standardize G (standard deviation)\n",
        "        q (int, optional): In case the shape of X is not the one we want for beta\n",
        "        M (int, optional): number of iteration. Defaults to 30.\n",
        "        returnGammas (bool, optional): determines if we want to return the coefficients that refer to the G part of the BP. Defaults to True.\n",
        "\n",
        "    Returns:\n",
        "        ndarray: all the betas calculated by the algorithm\n",
        "        ndarray: the median of the all the betas calculated by the algorithm\n",
        "        ndarray: all the gammas calculated by the algorithm\n",
        "        ndarray: the median absolute deviation of the all the gammas calculated by the algorith\n",
        "\n",
        "    \"\"\"\n",
        "    n, p = X.shape\n",
        "    if q is None:\n",
        "        q = p\n",
        "    if p == 0:\n",
        "        q = n\n",
        "\n",
        "    BPsols = np.zeros((p+q, M))\n",
        "\n",
        "    if not (type(standardizeG) == int or float):\n",
        "        standardizeG = 1.\n",
        "\n",
        "    for m in range(M):\n",
        "        G = np.random.normal(size=(n, q))\n",
        "        if meancenterG:\n",
        "            G = G - np.mean(G, axis=0)\n",
        "        G = standardizeG * (G / np.std(G, axis=0))\n",
        "        BPsols[:, m] = BP(np.hstack([X, G]), y)\n",
        "\n",
        "    Betas = BPsols[:p, ]\n",
        "\n",
        "    if M == 1:\n",
        "        medBeta = Betas\n",
        "    else:\n",
        "        medBeta = np.median(Betas, axis=1)\n",
        "\n",
        "    if returnGammas:\n",
        "        Gammas = BPsols[-p, ]\n",
        "        nozeroGamma = Gammas[Gammas != 0]\n",
        "        madGammas = np.median(np.abs(nozeroGamma - np.mean(nozeroGamma)))\n",
        "    else:\n",
        "        Gammas = None\n",
        "        madGammas = None\n",
        "\n",
        "    return(Betas, medBeta, Gammas, madGammas)"
      ]
    },
    {
      "cell_type": "markdown",
      "metadata": {
        "id": "HMC8tnIz6_9h"
      },
      "source": [
        "In order to have a functionning Lasso zero algorithm, we also need to implement a working function of the Quantile Universal Thresholding. "
      ]
    },
    {
      "cell_type": "code",
      "execution_count": null,
      "metadata": {
        "ExecuteTime": {
          "end_time": "2022-03-23T18:04:20.361608Z",
          "start_time": "2022-03-23T18:04:20.321817Z"
        },
        "id": "ZDUnOPGG6_GI"
      },
      "outputs": [],
      "source": [
        "def upperquant_from_gev(GEVpar, alpha):\n",
        "    \"\"\"transforms the GEV results into the upperquant\n",
        "\n",
        "    Args:\n",
        "        GEVpar (tuple): results of the gevfit \n",
        "        alpha (float): _description_\n",
        "\n",
        "    Returns:\n",
        "        float: upperquant\n",
        "    \"\"\"\n",
        "    \n",
        "    if alpha is None:\n",
        "        upperQuant = 0\n",
        "    else:\n",
        "        if len(GEVpar) == 2:\n",
        "            upperQuant = GEVpar[0] - GEVpar[1]*np.log(-np.log(1-alpha))\n",
        "        else:\n",
        "            if GEVpar[2] == 0:\n",
        "                upperQuant = GEVpar[0] - GEVpar[1] / GEVpar[2] * np.log(- np.log(1-alpha) ** GEVpar[2] - 1)\n",
        "            else:\n",
        "                upperQuant = GEVpar[0] - GEVpar[1]*np.log(-np.log(1-alpha))\n",
        "    return upperQuant\n",
        "            \n",
        "def QUT(X, q=None, M=30,\n",
        "        alpha=None, sigma=None,\n",
        "        intercept=True, standardizeX=True,\n",
        "        standardizeG=None, MCrep=100,\n",
        "        GEVapprox=True, var_subset=None):\n",
        "    \"\"\"performs Quantile Universal Thresholding\n",
        "\n",
        "    Args:\n",
        "        X (ndarray): covariates\n",
        "        q (int, optional): In case the shape of X is not the one we want for beta. Defaults to None.\n",
        "        M (int, optional): number of iteration of the M_BP. Defaults to 30.\n",
        "        alpha (float, optional): level. Defaults to None.\n",
        "        sigma (float, optional): _description_. Defaults to None.\n",
        "        intercept (bool, optional): determines of we standardize X (mean)\n",
        "        standardizeX (bool, optional): determines of we standardize X (standard deviation)\n",
        "        standardizeG (bool, optional): determines of we standardize G (standard deviation)\n",
        "        MCrep (int, optional): iterations of the QUT algorithm (MC stands for Monte Carlo). Defaults to 100.\n",
        "        GEVapprox (bool, optional): Determines if we try to approach the threshold using a generalized extreme value distribution. Defaults to True.\n",
        "        var_subset (list, optional): The length of the coefficients of Beta we need. Defaults to None.\n",
        "\n",
        "    Returns:  allMC, GEVpar, GEVfit, upperQuant, error\n",
        "        ndarray: the result of the M_BP\n",
        "        tuple: the result of the gev fitting if it was done, None otherwise\n",
        "        bool: if the GEV was correctly fitted\n",
        "        float: the final threshold\n",
        "        bool: if there was an error during the fitting of the gev\n",
        "    \"\"\"\n",
        "    n, p = X.shape\n",
        "\n",
        "    if q is None:\n",
        "        q = p\n",
        "\n",
        "    if var_subset is None:\n",
        "        var_subset = range(p)\n",
        "\n",
        "    if intercept:\n",
        "        X = X - np.mean(X, axis=0)\n",
        "    if standardizeX:\n",
        "        X = X/np.std(X, axis=0)\n",
        "    if standardizeG is None:\n",
        "        standardizeG = standardizeX\n",
        "\n",
        "    allMC = np.zeros((int(MCrep)))\n",
        "    is_none_sigma = isinstance(sigma, type(None))\n",
        "\n",
        "    for r in range(int(MCrep)):\n",
        "        # print(r)\n",
        "        eps = np.random.normal(size=n)\n",
        "        if intercept:\n",
        "            eps -= np.mean(eps)\n",
        "        Betas, medBeta, Gammas, madGammas = M_BP(X=X, y=eps,\n",
        "                                                 q=q, M=M,\n",
        "                                                 meancenterG=intercept,\n",
        "                                                 standardizeG=standardizeG,\n",
        "                                                 returnGammas=is_none_sigma)\n",
        "        if is_none_sigma:\n",
        "            if madGammas != madGammas:  # check for nan\n",
        "                madGammas = 0\n",
        "            if np.max(np.abs(medBeta[var_subset])) == 0:\n",
        "                allMC[r] = 0\n",
        "            else:\n",
        "                allMC[r] = np.max(np.abs(medBeta[var_subset])) / madGammas\n",
        "        else:\n",
        "            allMC[r] = sigma * np.max(np.abs(medBeta[var_subset]))\n",
        "    error = False\n",
        "    # print('mext bp qut done')\n",
        "    if GEVapprox:\n",
        "        print('fitting GEV distribution')\n",
        "        try:\n",
        "            GEVpar = gev.fit(allMC, method=\"MLE\")\n",
        "            GEVfit = True\n",
        "            upperQuant = upperquant_from_gev(GEVpar, alpha)\n",
        "        except:\n",
        "            GEVfit = False\n",
        "            error = True\n",
        "            print('GEV parameters were not estimated')\n",
        "            GEVpar = None\n",
        "            if alpha is None:\n",
        "                upperQuant = None\n",
        "            else:\n",
        "                upperQuant = np.quantile(allMC, 1-alpha)\n",
        "    else:\n",
        "        print('GEV parameters were not estimated')\n",
        "        GEVfit = False\n",
        "        GEVpar = None\n",
        "        if alpha is None:\n",
        "            upperQuant = None\n",
        "        else:\n",
        "            upperQuant = np.quantile(allMC, 1-alpha)\n",
        "\n",
        "    return allMC, GEVpar, GEVfit, upperQuant, error\n"
      ]
    },
    {
      "cell_type": "code",
      "execution_count": null,
      "metadata": {
        "ExecuteTime": {
          "end_time": "2022-03-23T18:04:20.518883Z",
          "start_time": "2022-03-23T18:04:20.499325Z"
        },
        "id": "HdfDde3H6tF5"
      },
      "outputs": [],
      "source": [
        "def get_tau(madGammas, X,\n",
        "            qut_MC_output=None,\n",
        "            q=None, M=30,\n",
        "            alpha=None, sigma=None,\n",
        "            intercept=True,\n",
        "            standardizeG=None, MCrep=100,\n",
        "            GEVapprox=True, var_subset=None):\n",
        "    \"\"\"gets the tau from the quantile universale thresholding\n",
        "\n",
        "    Args:\n",
        "        madGammas (ndarray): median average differance of the gammas\n",
        "        X (ndarray): covariates\n",
        "        qut_MC_output (tuple): the results of the QUT if already performed. Defaults to None. \n",
        "        q (int, optional): In case the shape of X is not the one we want for beta. Defaults to None.\n",
        "        M (int, optional): number of iteration of the M_BP. Defaults to 30.\n",
        "        alpha (float, optional): level. Defaults to None.\n",
        "        sigma (float, optional): _description_. Defaults to None.\n",
        "        intercept (bool, optional): determines of we standardize X (mean)\n",
        "        standardizeG (bool, optional): determines of we standardize G (standard deviation)\n",
        "        MCrep (int, optional): iterations of the QUT algorithm (MC stands for Monte Carlo). Defaults to 100.\n",
        "        GEVapprox (bool, optional): Determines if we try to approach the threshold using a generalized extreme value distribution. Defaults to True.\n",
        "        var_subset (list, optional): The length of the coefficients of Beta we need. Defaults to None. )\n",
        "    \"\"\"\n",
        "\n",
        "    # we need to determine the tau using quantitave universal thresholding\n",
        "    if qut_MC_output is None:\n",
        "        # print('qut began')\n",
        "        qut_MC_output = QUT(X=X,\n",
        "                            q=q,\n",
        "                            M=M,\n",
        "                            alpha=alpha,\n",
        "                            sigma=sigma,\n",
        "                            intercept=intercept,\n",
        "                            standardizeX=False,\n",
        "                            standardizeG=standardizeG,\n",
        "                            GEVapprox=GEVapprox,\n",
        "                            var_subset=var_subset,\n",
        "                            MCrep=MCrep)\n",
        "\n",
        "        allMC, GEVpar, GEVfit, upperQuant, error = qut_MC_output\n",
        "        if GEVfit:\n",
        "            quant_type = \"GEV\"\n",
        "        else:\n",
        "            quant_type = 'empirical'\n",
        "        if (upperQuant == np.inf) or sigma is not None:\n",
        "            tau = upperQuant\n",
        "        else:\n",
        "            tau = madGammas * upperQuant\n",
        "    else:\n",
        "        allMC, GEVpar, GEVfit, upperQuant, error = qut_MC_output\n",
        "        if GEVapprox:\n",
        "            if not GEVfit:\n",
        "                print('fitting GEV distribution on allMC')\n",
        "                try:\n",
        "                    GEVpar = gev.fit(allMC, method=\"MLE\")\n",
        "                    GEVfit = True\n",
        "                    error = False\n",
        "                except:\n",
        "                    GEVfit = False\n",
        "                    error = True\n",
        "                if GEVfit:\n",
        "                    quant_type = \"GEV\"\n",
        "                    upperQuant = upperquant_from_gev(GEVpar, alpha)\n",
        "\n",
        "                if error:\n",
        "                    print('error in gev fit, use empirical quantile')\n",
        "                    GEVapprox = False\n",
        "            else:\n",
        "                if error:\n",
        "                    print('error in gev fit, use empirical quantile')\n",
        "                    GEVapprox = False\n",
        "                else:\n",
        "                    GEVapprox = False\n",
        "    if not GEVapprox:\n",
        "        quant_type = 'empirical'\n",
        "        upperQuant = np.quantile(allMC, 1 - alpha)\n",
        "\n",
        "    if (upperQuant == np.inf) or sigma is not None:\n",
        "        tau = upperQuant\n",
        "    else:\n",
        "        tau = madGammas * upperQuant\n",
        "\n",
        "    return tau, quant_type"
      ]
    },
    {
      "cell_type": "code",
      "execution_count": null,
      "metadata": {
        "ExecuteTime": {
          "end_time": "2022-03-23T18:04:20.733209Z",
          "start_time": "2022-03-23T18:04:20.686052Z"
        },
        "id": "iQRBHwkfONsK"
      },
      "outputs": [],
      "source": [
        "def lass0(X, y, alpha,\n",
        "          q=None,\n",
        "          tau=None, M=30,\n",
        "          sigma=None,\n",
        "          intercept=True,\n",
        "          standardizeX=True, standardizeG=None,\n",
        "          qut_MC_output=None, GEVapprox=True,\n",
        "          soft_thresholding=False,\n",
        "          ols=True, var_subset=None, MCrep=100):\n",
        "    \"\"\"Computes the full lasso zero algorithm\n",
        "\n",
        "    Args:\n",
        "        X (ndarray): matrix of covariates\n",
        "        y (ndarray): vector objective\n",
        "        alpha (float): _description_\n",
        "        q (int, optional):in case the shape of X is not the one we want for beta. Defaults to None\n",
        "        tau (float, optional): threshold. Defaults to None\n",
        "        M (int, optional): number of iteration of the M_BP. Defaults to 30.\n",
        "        sigma (float, optional): _description_. Defaults to None.\n",
        "        intercept (bool, optional): determines of we standardize X (mean)\n",
        "        standardizeX (bool, optional): determines of we standardize X (standard deviation)\n",
        "        standardizeG (bool, optional): determines of we standardize G (standard deviation)\n",
        "        qut_MC_output (tuple): the results of the QUT if already performed. Defaults to None. \n",
        "        GEVapprox (bool, optional): Determines if we try to approach the threshold using a generalized extreme value distribution. Defaults to True.\n",
        "        soft_thresholding (bool, optional): if true the coefficients are soft thresholded (rather than hard thresholded) at level tau. Defaults to False.\n",
        "        ols (bool, optional):  whether to refit the nonzero coefficients with an ordinary least squares procedure. Defaults to True.\n",
        "        var_subset (list, optional): The length of the coefficients of Beta we need. Defaults to None. \n",
        "        MCrep (int, optional): iterations of the QUT algorithm (MC stands for Monte Carlo). Defaults to 100.\n",
        "    \n",
        "    Returns: \n",
        "        ndarray: coefficients\n",
        "        bool: intercept\n",
        "        float: fitted_values\n",
        "        float: residuals\n",
        "        ndarray: indexes of the non null coefficients\n",
        "        float: tau, the threshold\n",
        "        ndarray: all the betas calculated by the algorithm\n",
        "        ndarray: all the gammas calculated by the algorithm\n",
        "        ndarray: the median absolute deviation of the all the gammas calculated by the algorith \n",
        "        ndarray : the standart deviations of the covariates,\n",
        "        ndarray: computation method of threshold\n",
        "\n",
        "    \"\"\"\n",
        "\n",
        "    n, p = X.shape\n",
        "    if q is None:\n",
        "        q = p\n",
        "    if p == 0:\n",
        "        q = n\n",
        "\n",
        "    if standardizeG is None:\n",
        "        standardizeG = standardizeX\n",
        "\n",
        "    if intercept:\n",
        "        meany = np.mean(y)\n",
        "        y = y - meany\n",
        "        meansX = np.mean(X, axis=0)\n",
        "        X = X - meansX  # à revoir c'est bizarre les transpose à voir le bail sur r\n",
        "    else:\n",
        "        meany = 0\n",
        "\n",
        "    if standardizeX:\n",
        "        sdsX = np.std(X, axis=0)\n",
        "        X = X / sdsX\n",
        "    else:\n",
        "        sdsX = np.ones((1, p))\n",
        "    # print(X.shape)\n",
        "    Betas, betahat, Gammas, madGammas = M_BP(X, y,\n",
        "                                             intercept, standardizeG,\n",
        "                                             q=q, M=M,\n",
        "                                             returnGammas=True)\n",
        "    # print(betahat.shape, Betas.shape)\n",
        "    # print('first mextbp done')\n",
        "    if tau is None:\n",
        "        # we need to determine the tau using quantitave universal thresholding\n",
        "        tau, quant_type = get_tau(madGammas, X,\n",
        "                                  qut_MC_output=qut_MC_output,\n",
        "                                  q=q, M=M,\n",
        "                                  alpha=alpha, sigma=sigma,\n",
        "                                  intercept=intercept,\n",
        "                                  standardizeG=standardizeG,\n",
        "                                  MCrep=MCrep,\n",
        "                                  GEVapprox=GEVapprox,\n",
        "                                  var_subset=var_subset)\n",
        "    else:\n",
        "        quant_type = None   # tau given\n",
        "\n",
        "    betahat[np.abs(betahat) <= tau] = 0\n",
        "\n",
        "    if soft_thresholding:\n",
        "        idx = np.where(np.abs(betahat) > tau)\n",
        "        betahat[idx] -= np.sign(betahat[idx])*tau\n",
        "\n",
        "    selected = np.where(betahat != 0)[0]\n",
        "    if len(selected) > 0 and ols:\n",
        "        model = LinearRegression()\n",
        "        model.fit(X[:, selected] - 1, y)  \n",
        "        betahat[selected] = model.coef_\n",
        "\n",
        "    coefficients = betahat/sdsX\n",
        "    if intercept:\n",
        "        intercept = float(meany - np.dot(meansX.T, coefficients))\n",
        "    else:\n",
        "        0\n",
        "\n",
        "    fitted_values = meany + np.dot(X[:, selected], betahat[selected])\n",
        "    residuals = (y + meany) - fitted_values\n",
        "\n",
        "    return(coefficients, intercept,\n",
        "           fitted_values, residuals,\n",
        "           selected, tau, Betas,\n",
        "           Gammas, madGammas, sdsX, quant_type)\n"
      ]
    },
    {
      "cell_type": "markdown",
      "metadata": {
        "id": "1UeGnufmtePe"
      },
      "source": [
        "These functions are the basis of the Robust lasso zero algorithm as it relies on lasso zero. In order to perform Robust Lasso Zero, we apply the 'lass0' function on an augmented matrix $[X, \\frac{\\sqrt{n}}{\\lambda}I_n]$ instead of $X$."
      ]
    },
    {
      "cell_type": "markdown",
      "metadata": {
        "id": "vK9f7lwOx5d8"
      },
      "source": [
        "### Robust Lasso Zero Functions \n",
        "<a class=\"anchor\" id=\"Rl0functions\"></a>"
      ]
    },
    {
      "cell_type": "code",
      "execution_count": null,
      "metadata": {
        "ExecuteTime": {
          "end_time": "2022-03-23T18:04:20.940372Z",
          "start_time": "2022-03-23T18:04:20.916864Z"
        },
        "id": "LY6syr0mui9a"
      },
      "outputs": [],
      "source": [
        "def robustlass0(X, y, lbda=None, alpha=0.05,\n",
        "                q=None,\n",
        "                tau=None, M=30,\n",
        "                sigma=None,\n",
        "                intercept=True,\n",
        "                standardizeX=True, standardizeG=None,\n",
        "                qut_MC_output=None, GEVapprox=True,\n",
        "                soft_thresholding=False,\n",
        "                ols=True, var_subset=None, MCrep=100):\n",
        "    \"\"\"Computes the full robust lasso zero algorithm\n",
        "\n",
        "    Args:\n",
        "        X (ndarray): matrix of covariates\n",
        "        y (ndarray): vector objective\n",
        "        lbda (float) : parameter. Defaults to None\n",
        "        alpha (float): _description_\n",
        "        q (int, optional):in case the shape of X is not the one we want for beta. Defaults to None\n",
        "        tau (float, optional): threshold. Defaults to None\n",
        "        M (int, optional): number of iteration of the M_BP. Defaults to 30.\n",
        "        sigma (float, optional): _description_. Defaults to None.\n",
        "        intercept (bool, optional): determines of we standardize X (mean)\n",
        "        standardizeX (bool, optional): determines of we standardize X (standard deviation)\n",
        "        standardizeG (bool, optional): determines of we standardize G (standard deviation)\n",
        "        qut_MC_output (tuple): the results of the QUT if already performed. Defaults to None. \n",
        "        GEVapprox (bool, optional): Determines if we try to approach the threshold using a generalized extreme value distribution. Defaults to True.\n",
        "        soft_thresholding (bool, optional): if true the coefficients are soft thresholded (rather than hard thresholded) at level tau. Defaults to False.\n",
        "        ols (bool, optional):  whether to refit the nonzero coefficients with an ordinary least squares procedure. Defaults to True.\n",
        "        var_subset (list, optional): The length of the coefficients of Beta we need. Defaults to None. \n",
        "        MCrep (int, optional): iterations of the QUT algorithm (MC stands for Monte Carlo). Defaults to 100.\n",
        "\n",
        "    Returns:\n",
        "        ndarray: coefficients\n",
        "        ndarray: matrix of all the betas computed\n",
        "    \"\"\"\n",
        "\n",
        "    n, p = X.shape\n",
        "\n",
        "    Betas = np.zeros((p, M))\n",
        "    # Omegas = np.zeros((n, M))\n",
        "    # Gammas = np.zeros((n, M))\n",
        "    n_sqrt = np.sqrt(n)\n",
        "    eye_n = np.eye(n)\n",
        "    if lbda is None:  # sibulation\n",
        "        lbda = 1\n",
        "\n",
        "    for k in range(M):\n",
        "        fullX = np.hstack([X, (n_sqrt / lbda) * eye_n])\n",
        "        lass0_resul = lass0(X=fullX,\n",
        "                            y=y,\n",
        "                            tau=tau,\n",
        "                            q=p,\n",
        "                            alpha=alpha,\n",
        "                            intercept=True, \n",
        "                            standardizeG=True,\n",
        "                            M=M,\n",
        "                            sigma=sigma,\n",
        "                            standardizeX=standardizeX, \n",
        "                            qut_MC_output=qut_MC_output,\n",
        "                            GEVapprox=GEVapprox,\n",
        "                            soft_thresholding=soft_thresholding,\n",
        "                            ols=ols,\n",
        "                            var_subset=var_subset,\n",
        "                            MCrep=MCrep)\n",
        "        \n",
        "        Betas[k, :] = lass0_resul[0][0:p]\n",
        "        # Omegas[k, :] = omega_hat\n",
        "        # Gammas[k; :] = gamma_hat\n",
        "    \n",
        "    beta_med = np.median(Betas, axis=0)\n",
        "    beta_Rlass0 = beta_med[np.abs(beta_med) <= sigma]\n",
        "\n",
        "    return beta_Rlass0, Betas"
      ]
    },
    {
      "cell_type": "markdown",
      "metadata": {
        "id": "pgvpnS3kzVFV"
      },
      "source": [
        "## Simulations \n",
        "<a class=\"anchor\" id=\"simulations\"></a>\n",
        "### Example of code\n",
        "<a class=\"anchor\" id=\"excode\"></a>\n",
        "We have all the functions we need to start the simulations. Let us define the settings. We need to introduce the missing values generation method. The authors want \n",
        "\n",
        "$\\mathbb{P}\\left(X_{i j}^{\\mathrm{NA}}=\\mathrm{NA} \\mid X_{i j}=x\\right)=\\frac{1}{1+e^{-a|x|-b}}$\n",
        "\n",
        "where setting $a$ to 0 means the missing values are MCAR and setting $a$ to 5 means they are MNAR. They then choose $b$ such that overall average\n",
        "proportion of missing values is $\\pi$, with $\\pi = 5\\%$ or $\\pi = 20\\%$. In order to avoid useless energy and time consuming computing of this integrale, we use the data that is almost a dictionnary provided in the github repository of this paper, which we transformed from .Rda to .csv. "
      ]
    },
    {
      "cell_type": "code",
      "execution_count": null,
      "metadata": {
        "ExecuteTime": {
          "end_time": "2022-03-23T18:04:23.865579Z",
          "start_time": "2022-03-23T18:04:21.542671Z"
        },
        "id": "2K0d-zw86D7u"
      },
      "outputs": [],
      "source": [
        "dfb = pd.read_csv('dataframe_b.csv')\n",
        "def format_b_df(dfb): \n",
        "    dfb.index = dfb['a']\n",
        "    dfb.drop('a', axis=1, inplace=True)\n",
        "    col = dfb.columns\n",
        "    dfb = dfb.rename(columns={c: float(c) for c in col })\n",
        "    return dfb\n",
        "dfb = format_b_df(dfb)\n"
      ]
    },
    {
      "cell_type": "code",
      "execution_count": null,
      "metadata": {
        "ExecuteTime": {
          "end_time": "2022-03-23T18:04:25.135120Z",
          "start_time": "2022-03-23T18:04:23.870349Z"
        },
        "id": "Q4O_S31R7Zen"
      },
      "outputs": [],
      "source": [
        "a = 5  # 0: MCAR, 5: MNAR\n",
        "pi = 0.05  # expected proportion of missing values in X\n",
        "R = 50 # number of simulations\n",
        "\n",
        "b_idx = np.argmin([np.abs(dfb.loc[a, col]  - pi) for col in dfb.columns])\n",
        "b = dfb.columns[b_idx]  \n",
        "\n",
        "alpha = 0.05  # level for QUTd\n",
        "MCrep = 200  # number of replications for estimating QUT\n",
        "GEVapprox = True  # estimating QUT from a GEV fit"
      ]
    },
    {
      "cell_type": "markdown",
      "metadata": {
        "id": "udcPcikVAsXs"
      },
      "source": [
        "At each iteration of the simulation we will create another $X$ and $y$ in the same way that we defined earlier. We will add missing data to $X$ by drawing with a uniform law a matrix $U$ of the same as $X$ and appointing missing values to $X$ where $U$ is inferior to $1 - \\frac{1}{1+e^{-a|x|-b}}$. We then center X and put $0$s everywhere there where NAs. An example is provided below:"
      ]
    },
    {
      "cell_type": "code",
      "execution_count": null,
      "metadata": {
        "ExecuteTime": {
          "end_time": "2022-03-23T18:04:25.164398Z",
          "start_time": "2022-03-23T18:04:25.135120Z"
        },
        "id": "NAvlhbx4Arzs"
      },
      "outputs": [],
      "source": [
        "U = np.random.uniform(size=(n,p))\n",
        "isNA = U < 1/(1 + np.exp(-a*np.abs(X) - b))\n",
        "mx = np.ma.masked_array(X, isNA,\n",
        "                        fill_value=np.nan)\n",
        "XNA = mx.filled()\n",
        "\n",
        "isna = np.isnan(XNA)\n",
        "isna_row = np.where(np.sum(isna, axis=1) > 0)\n",
        "Ximp = deepcopy(XNA)\n",
        "meansx = np.nanmean(Ximp, axis=0)\n",
        "Ximp -= meansx\n",
        "Ximp[isna] = 0\n",
        "Ximp /= np.std(Ximp, axis=0)\n"
      ]
    },
    {
      "cell_type": "markdown",
      "metadata": {
        "id": "2vcK50RWzeG3"
      },
      "source": [
        "There must be a way to assess the quality of the estimation of $\\beta$. The authors value the exact prediction of $\\beta$ by $\\hat{\\beta}$ just as much as the prediction of $sign(\\beta)$. Therefore in our function that computes all the interesting metrics of our simulation, we include two binary variables that are respectively True if $\\beta$ and $\\hat{\\beta}$ are exactly alike and if $sign(\\beta)$ and $sign(\\hat{\\beta})$ are exactly alike.\n",
        "\n",
        "For each iteration we collect these two variables and other scores, \n",
        "- signed True Positive Proportion (TPPs) : $TPPs = \\frac{|\\{j|\\beta^0_j<0,\\hat{\\beta}_j<0\\}| + |\\{j|\\beta^0_j>0,\\hat{\\beta}_j>0\\}| }{|S^0|}$\n",
        "- signed False Discovery Proportion (FDPs): $FDPs = \\frac{|\\hat{S}| - |\\{j|\\beta^0_j<0,\\hat{\\beta}_j<0\\}| - |\\{j|\\beta^0_j>0,\\hat{\\beta}_j>0\\}|}{max(1,|\\hat{S}|) } $\n",
        "\n",
        "At the end of the simulation, we take the expection of these metrics and they become the s-True Positive Rate and the s-False Discovery Rate. The expectation of the indicator of $\\beta = \\hat{\\beta}$ becomes the probability of exactitude and the expectation of the indicator of $sign(\\beta) = sign(\\hat{\\beta})$  which is Probability of Sign Recovery (PSR)."
      ]
    },
    {
      "cell_type": "code",
      "execution_count": null,
      "metadata": {
        "ExecuteTime": {
          "end_time": "2022-03-23T18:04:25.192933Z",
          "start_time": "2022-03-23T18:04:25.170498Z"
        },
        "id": "chEdhWHZHOx0"
      },
      "outputs": [],
      "source": [
        "def criteria(betahat, beta):\n",
        "    \"\"\"computes the scores to determine how good is betahat as an approximation of beta\n",
        "\n",
        "    Args:\n",
        "        betahat (ndarray): estimated data\n",
        "        beta (ndarray): original data\n",
        "\n",
        "    Returns:\n",
        "        int: number of non null values in beta\n",
        "        bool: True if beta and betahat are exactly alike\n",
        "        float: TPP\n",
        "        float: FDP\n",
        "        bool: True if beta's signs and betahat's signs are exactly alike\n",
        "        float: TPPs\n",
        "        float: FDPs\n",
        "    \"\"\"\n",
        "    s = np.sum(beta != 0)  # number of non null values in beta, not sum of these items\n",
        "    exact = np.all((beta == 0) == (betahat == 0))\n",
        "    TPP = np.sum((beta != 0) & (betahat != 0)) / s\n",
        "    FDP = np.sum((beta == 0) & (betahat != 0)) / np.max([1, np.sum(betahat != 0)])\n",
        "    exactsign = np.all(np.sign(beta) == np.sign(betahat))\n",
        "    TPPs = (np.sum((betahat > 0) & (beta > 0)) + np.sum((betahat < 0) & (beta < 0))) / s\n",
        "    FDPs = (np.sum(betahat != 0) - np.sum((beta > 0) & (betahat > 0)) - np.sum((beta < 0) & (betahat < 0))) / np.max([1, np.sum(betahat != 0)])\n",
        "\n",
        "    return s, exact, TPP, FDP, exactsign, TPPs, FDPs"
      ]
    },
    {
      "cell_type": "markdown",
      "metadata": {
        "id": "_8Gj8RPazeG3"
      },
      "source": [
        "Here is an example of a cell that we ran during the course of our simulations. As we did not have the time and computing ressources to do all of the simulations the authors presented in their paper, we decided to only do the ones where $\\rho = 0$, $\\rho$ being the correlation coefficient. We also only did the method of simulation with no oracle, also refered to as automatic hyperparameter tuning. The code for the $s$-oracle hyperparameter tuning is provided in the appendix. \n",
        "\n",
        "Another difference with their parameters settings is that we chose to repeat the simulations only 50 times instead of 100, because it would have been too long otherwise. "
      ]
    },
    {
      "cell_type": "code",
      "execution_count": 2,
      "metadata": {
        "ExecuteTime": {
          "end_time": "2022-03-23T18:04:25.205568Z",
          "start_time": "2022-03-23T18:04:25.197187Z"
        },
        "id": "32yJsaZdzeG3"
      },
      "outputs": [],
      "source": [
        "import pickle"
      ]
    },
    {
      "cell_type": "code",
      "execution_count": null,
      "metadata": {
        "ExecuteTime": {
          "end_time": "2022-03-23T18:07:08.830374Z",
          "start_time": "2022-03-23T18:06:48.590497Z"
        },
        "colab": {
          "background_save": true
        },
        "id": "nrTzHQtDzSP3"
      },
      "outputs": [],
      "source": [
        "print('Simulation began')\n",
        "\n",
        "save_betas = True \n",
        "\n",
        "a = 5  # 0: MCAR, 5: MNAR\n",
        "pi = 0.05  # expected proportion of missing values in X\n",
        "R = 50 # number of simulations\n",
        "\n",
        "b_idx = np.argmin([np.abs(dfb.loc[a, col]  - pi) for col in dfb.columns])\n",
        "b = dfb.columns[b_idx]  \n",
        "\n",
        "alpha = 0.05  # level for QUTd\n",
        "MCrep = 200  # number of replications for estimating QUT\n",
        "GEVapprox = True  # estimating QUT from a GEV fit\n",
        "\n",
        "if save_betas :\n",
        "    betas_lass = []\n",
        "    betas_rlass = []\n",
        "\n",
        "results = {}\n",
        "results['lass0'] = []\n",
        "results['Rlass0'] = []\n",
        "\n",
        "for r in range(R):\n",
        "    print(r)\n",
        "\n",
        "    # creation of beta\n",
        "    S = np.random.randint(0, p, s)\n",
        "    beta = np.zeros(p)\n",
        "    beta[S] = 1*np.sign(np.random.normal(size=s))\n",
        "\n",
        "    X = np.random.multivariate_normal(np.zeros(p), Sigma, size=(n))\n",
        "    X = X - np.mean(X, axis=0)\n",
        "    X /= np.std(X, axis=0)\n",
        "\n",
        "    y = np.dot(X[:,S], beta[S]) + np.random.normal(size=n, scale=sigma)\n",
        "\n",
        "    U = np.random.uniform(size=(n,p))\n",
        "    isNA = U < 1/(1 + np.exp(-a*np.abs(X) - b))\n",
        "    mx = np.ma.masked_array(X, isNA,\n",
        "                            fill_value=np.nan)\n",
        "    XNA = mx.filled()\n",
        "    \n",
        "    isna = np.isnan(XNA)\n",
        "    isna_row = np.where(np.sum(isna, axis=1) > 0)\n",
        "    Ximp = deepcopy(XNA)\n",
        "    meansx = np.nanmean(Ximp, axis=0)\n",
        "    Ximp -= meansx\n",
        "    Ximp[isna] = 0\n",
        "    Ximp /= np.std(Ximp, axis=0)\n",
        "\n",
        "    subI = np.eye(n)\n",
        "    subI = subI[:, isna_row[0]]\n",
        "    subI -= 1/n\n",
        "\n",
        "    n_sqrt = np.sqrt(n)\n",
        "    lbda = 1\n",
        "    delta = n_sqrt / lbda\n",
        "    # deltas = np.hstack([np.linspace(0.1*n_sqrt, n_sqrt, 50)[:-1], np.linspace(n_sqrt, 10*n_sqrt, 50)])\n",
        "    fullX = np.hstack([Ximp, delta * subI])\n",
        "    Rlass0result = lass0(fullX, y, alpha=alpha,\n",
        "                        standardizeG=True,\n",
        "                        intercept=True,\n",
        "                        ols=False, MCrep=40,\n",
        "                        GEVapprox=True,\n",
        "                        var_subset=range(p))\n",
        "    betaRlass0 = Rlass0result[0][:p]\n",
        "\n",
        "    res_R = criteria(betaRlass0, beta)\n",
        "    print(res_R)\n",
        "\n",
        "\n",
        "    lass0result = lass0(Ximp, y, alpha=alpha,\n",
        "                    standardizeG=True,\n",
        "                    intercept=True,\n",
        "                    ols=False, MCrep=40,\n",
        "                    GEVapprox=GEVapprox,\n",
        "                    var_subset=range(p))\n",
        "    \n",
        "    betalass0 = lass0result[0][:p]\n",
        "    print('Lasso zero computed')\n",
        "\n",
        "    res_L = criteria(betalass0, beta)\n",
        "    print(res_L)\n",
        "    if save_betas:\n",
        "        betas_lass.append(betalass0)\n",
        "        betas_rlass.append(betaRlass0)\n",
        "\n",
        "    results['lass0'].append(res_L)\n",
        "    results['Rlass0'].append(res_R)\n",
        "\n",
        "with open('res_a%s_pi%s.pkl' % (a,pi), 'wb') as f: \n",
        "    pickle.dump(results, f)"
      ]
    },
    {
      "cell_type": "markdown",
      "metadata": {
        "id": "7o93oMevzeG4"
      },
      "source": [
        "### Results \n",
        "<a class=\"anchor\" id=\"results\"></a>\n"
      ]
    },
    {
      "cell_type": "code",
      "execution_count": 3,
      "metadata": {
        "ExecuteTime": {
          "end_time": "2022-03-23T20:52:39.526114Z",
          "start_time": "2022-03-23T20:52:39.497569Z"
        },
        "id": "VwnYf59izeG4"
      },
      "outputs": [],
      "source": [
        "simulation_parameters = {'s' : [3, 10],\n",
        "                         'a' : [0, 5],\n",
        "                        'pi' : [0.05, 0.2]}"
      ]
    },
    {
      "cell_type": "code",
      "execution_count": 4,
      "metadata": {
        "ExecuteTime": {
          "end_time": "2022-03-23T20:40:34.646117Z",
          "start_time": "2022-03-23T20:40:34.610008Z"
        },
        "id": "nDzVA8g0zeG4"
      },
      "outputs": [],
      "source": [
        "res = {}\n",
        "for s in simulation_parameters['s']:\n",
        "    for a in simulation_parameters['a']:\n",
        "        for pi in simulation_parameters['pi']:\n",
        "            if s == 3:\n",
        "                res['s%s_a%s_pi%s' % (s, a, pi)] = pickle.load(open('res_a%s_pi%s.pkl' % (a, pi), \"rb\"))\n",
        "            else:\n",
        "                res['s%s_a%s_pi%s' % (s, a, pi)] = pickle.load(open('res_s10_a%s_pi%s.pkl' % (a, pi), \"rb\"))"
      ]
    },
    {
      "cell_type": "code",
      "execution_count": 5,
      "metadata": {
        "ExecuteTime": {
          "end_time": "2022-03-23T20:49:57.926858Z",
          "start_time": "2022-03-23T20:49:57.890992Z"
        },
        "id": "RSr3-_nzzeG4"
      },
      "outputs": [],
      "source": [
        "PSRs_lasso = {}\n",
        "PSRs_Rlasso = {}\n",
        "\n",
        "for key, elt in res.items(): \n",
        "    PSRs_lasso[key] = np.mean([elt['lass0'][k][4] for k in range(50)])    \n",
        "    PSRs_Rlasso[key] = np.mean([elt['Rlass0'][k][4] for k in range(50)])"
      ]
    },
    {
      "cell_type": "code",
      "execution_count": 6,
      "metadata": {
        "ExecuteTime": {
          "end_time": "2022-03-23T20:52:39.526114Z",
          "start_time": "2022-03-23T20:52:39.497569Z"
        },
        "id": "mKozGAYnzeG4"
      },
      "outputs": [],
      "source": [
        "FDRs_lasso = {}\n",
        "FDRs_Rlasso = {}\n",
        "\n",
        "for key, elt in res.items(): \n",
        "    FDRs_lasso[key] = np.mean([elt['lass0'][k][3] for k in range(50)])    \n",
        "    FDRs_Rlasso[key] = np.mean([elt['Rlass0'][k][3] for k in range(50)])"
      ]
    },
    {
      "cell_type": "code",
      "execution_count": 16,
      "metadata": {
        "ExecuteTime": {
          "end_time": "2022-03-23T21:50:33.894877Z",
          "start_time": "2022-03-23T21:50:33.578722Z"
        },
        "id": "Fqc29bulzeG5",
        "outputId": "d5e71676-fe17-42e1-c124-22140494a526",
        "scrolled": false
      },
      "outputs": [
        {
          "data": {
            "image/png": "[encoded data removed]",
            "text/plain": [
              "<Figure size 576x576 with 4 Axes>"
            ]
          },
          "metadata": {},
          "output_type": "display_data"
        }
      ],
      "source": [
        "import matplotlib.pyplot as plt\n",
        "plt.style.use('seaborn')\n",
        "fontsize = 16\n",
        "params = {'axes.labelsize': fontsize + 2,\n",
        "      'font.size': fontsize + 2,\n",
        "      'legend.fontsize': fontsize + 2,\n",
        "      'xtick.labelsize': fontsize - 2,\n",
        "      'ytick.labelsize': fontsize - 2, \n",
        "    'axes.titlesize' : fontsize + 2,}\n",
        "plt.rcParams.update(params)\n",
        "# Some example data to display\n",
        "y = np.array([0, 1])\n",
        "x = np.array([0, 5])\n",
        "\n",
        "fig, axs = plt.subplots(2, 2, sharey=True, figsize=(8, 8))\n",
        "#s = 3\n",
        "# pi = 0.05\n",
        "axs[0, 0].plot(x, [PSRs_lasso['s3_a0_pi0.05'], PSRs_lasso['s3_a5_pi0.05']],  marker=\"d\",c='blue', label='Lass0')\n",
        "axs[0, 0].plot(x, [PSRs_Rlasso['s3_a0_pi0.05'], PSRs_Rlasso['s3_a5_pi0.05']], marker=\"*\", c='black', label='RLass0')\n",
        "axs[0, 0].set_title('s = 3')\n",
        "axs[0, 0].set_xticks([0, 5])\n",
        "\n",
        "# axs[0, 0].set_ylabel('20% NA')\n",
        "\n",
        "#pi 0.2\n",
        "axs[0, 1].plot(x, [PSRs_lasso['s3_a0_pi0.2'], PSRs_lasso['s3_a5_pi0.2']], c='blue', marker=\"d\", label='Lass0')\n",
        "axs[0, 1].plot(x , [PSRs_Rlasso['s3_a0_pi0.2'], PSRs_Rlasso['s3_a5_pi0.2']], c='black', marker=\"*\",label='RLass0')\n",
        "axs[0, 1].set_title('s = 10')\n",
        "axs[0, 1].set_xticks([0, 5])\n",
        "axs[0, 1].yaxis.set_label_position(\"right\")\n",
        "axs[0, 1].set_ylabel('5% NA')\n",
        "#s = 10\n",
        "# pi = 0.05\n",
        "axs[1, 0].plot(x, [PSRs_lasso['s10_a0_pi0.05'], PSRs_lasso['s10_a5_pi0.05']],  c='blue', marker=\"d\", label='Lass0')\n",
        "axs[1, 0].plot(x, [PSRs_Rlasso['s10_a0_pi0.05'], PSRs_Rlasso['s10_a5_pi0.05']],  c='black',marker=\"*\", label='RLass0')\n",
        "axs[1, 0].set_xticks([0, 5])\n",
        "axs[1, 0].set_xticklabels(['MCAR\\na=0', 'MNAR\\na=5'])\n",
        "\n",
        "#pi 0.2\n",
        "axs[1, 1].plot(x, [PSRs_lasso['s10_a0_pi0.2'], PSRs_lasso['s10_a5_pi0.2']], c='blue', marker=\"d\", label='Lass0')\n",
        "axs[1, 1].plot(x , [PSRs_Rlasso['s10_a0_pi0.2'], PSRs_Rlasso['s10_a5_pi0.2']], c='black',marker=\"*\", label='RLass0')\n",
        "axs[1, 1].set_xticks([0, 5])\n",
        "axs[1, 1].set_xticklabels(['MCAR\\na=0', 'MNAR\\na=5'])\n",
        "axs[1, 1].yaxis.set_label_position(\"right\")\n",
        "axs[1, 1].set_ylabel('20% NA')\n",
        "\n",
        "# Hide x labels and tick labels for top plots and y ticks for right plots.\n",
        "# for ax in axs.flat:\n",
        "#     ax.label_outer()\n",
        "    # ax.set_xlabels(['MCAR \\n a=0', 'MCAR\\na=5'], )\n",
        "fig.suptitle('PSR')\n",
        "\n",
        "plt.ylim(0, 1)\n",
        "plt.legend()\n",
        "plt.show()"
      ]
    },
    {
      "cell_type": "markdown",
      "metadata": {
        "id": "kvrf4BGA1Ycf"
      },
      "source": [
        "**Interpretation of the PSR results :** If our lass0 performs worse than the one from the authors' simulation, the curves are still pretty similar, the maximum drop of performance compared to the authors being of $\\approx 0.3$. However, our RLass0 obtains very low scores compared to the authors : maximum drop of $\\approx 0.8$, meaning it performs very bad (and worse than our lass0) in situations where it is supposed to have a high performance. Moreover, in the case of 5%NA and support size of 3, our RLass0 performs better on MNAR data than on MCAR data, this is not supposed to happen as MNAR are harder to deal with. Nonetheless, our RLass0 also seems to be less sensitive to the type of missing data (MCAR or MNAR) than the one from the authors.\n",
        "\n"
      ]
    },
    {
      "cell_type": "code",
      "execution_count": 17,
      "metadata": {
        "ExecuteTime": {
          "end_time": "2022-03-23T21:50:13.233303Z",
          "start_time": "2022-03-23T21:50:12.935101Z"
        },
        "id": "UJ7uL4kHzeG5",
        "outputId": "796e31ee-9ca1-4e47-ebd6-77a18c4b2997"
      },
      "outputs": [
        {
          "data": {
            "image/png": "[encoded data removed]",
            "text/plain": [
              "<Figure size 576x576 with 4 Axes>"
            ]
          },
          "metadata": {},
          "output_type": "display_data"
        }
      ],
      "source": [
        "x = np.array([0, 5])\n",
        "\n",
        "fig, axs = plt.subplots(2, 2, sharey=True, figsize=(8,8))\n",
        "#s = 3\n",
        "# pi = 0.05\n",
        "axs[0, 0].plot(x, [FDRs_lasso['s3_a0_pi0.05'], FDRs_lasso['s3_a5_pi0.05']],  marker=\"d\",c='blue', label='Lass0')\n",
        "axs[0, 0].plot(x, [FDRs_Rlasso['s3_a0_pi0.05'], FDRs_Rlasso['s3_a5_pi0.05']], marker=\"*\", c='black', label='RLass0')\n",
        "axs[0, 0].set_title('s = 3')\n",
        "axs[0, 0].set_xticks([0, 5])\n",
        "\n",
        "# axs[0, 0].set_ylabel('20% NA')\n",
        "\n",
        "#pi 0.2\n",
        "axs[0, 1].plot(x, [FDRs_lasso['s3_a0_pi0.2'], FDRs_lasso['s3_a5_pi0.2']], c='blue', marker=\"d\", label='Lass0')\n",
        "axs[0, 1].plot(x , [FDRs_Rlasso['s3_a0_pi0.2'], FDRs_Rlasso['s3_a5_pi0.2']], c='black', marker=\"*\",label='RLass0')\n",
        "axs[0, 1].set_title('s = 10')\n",
        "axs[0, 1].yaxis.set_label_position(\"right\")\n",
        "axs[0, 1].set_ylabel('5% NA')\n",
        "axs[0, 1].set_xticks([0, 5])\n",
        "\n",
        "#s = 10\n",
        "# pi = 0.05\n",
        "axs[1, 0].plot(x, [FDRs_lasso['s10_a0_pi0.05'], FDRs_lasso['s10_a5_pi0.05']],  c='blue', marker=\"d\", label='Lass0')\n",
        "axs[1, 0].plot(x, [FDRs_Rlasso['s10_a0_pi0.05'], FDRs_Rlasso['s10_a5_pi0.05']],  c='black',marker=\"*\", label='RLass0')\n",
        "axs[1, 0].set_xticks([0, 5])\n",
        "axs[1, 0].set_xticklabels(['MCAR\\na=0', 'MCAR\\na=5'])\n",
        "\n",
        "#pi 0.2\n",
        "axs[1, 1].plot(x, [FDRs_lasso['s10_a0_pi0.2'], FDRs_lasso['s10_a5_pi0.2']], c='blue', marker=\"d\", label='Lass0')\n",
        "axs[1, 1].plot(x , [FDRs_Rlasso['s10_a0_pi0.2'], FDRs_Rlasso['s10_a5_pi0.2']], c='black',marker=\"*\", label='RLass0')\n",
        "axs[1, 1].set_xticks([0, 5])\n",
        "axs[1, 1].set_xticklabels(['MCAR\\na=0', 'MCAR\\na=5'])\n",
        "axs[1, 1].yaxis.set_label_position(\"right\")\n",
        "axs[1, 1].set_ylabel('20% NA')\n",
        "\n",
        "fig.suptitle('FDR')\n",
        "# for ax in axs.flat:\n",
        "#     ax.label_outer()\n",
        "    # ax.set_xlabels(['MCAR \\n a=0', 'MCAR\\na=5'], )\n",
        "\n",
        "plt.ylim(0, 1)\n",
        "plt.legend()\n",
        "plt.show()"
      ]
    },
    {
      "cell_type": "markdown",
      "metadata": {
        "id": "LOXszQj57bCF"
      },
      "source": [
        "**Interpretation of the FDR results :** When it comes to the FDR, our lass0 performs very good as we get the same results as the authors. However, our RLass0 performs again worse than our lass0, while the authors get very good performance. Here the average drop of performance is  $\\approx 0.35$, which is quite high for a FDR.\n",
        "\n",
        "The smaller gap between our models and those of the authors for the FDR (compared to PSR) can be explained by the fact that finding the\n",
        "\n",
        "Our assumptions about the performance drop are the same as for the PSR metric."
      ]
    },
    {
      "cell_type": "markdown",
      "metadata": {
        "id": "70UjHIJI48Ue"
      },
      "source": [
        "We are not sure of what causes these performance drops on our models.\n",
        "Our hypothesis is that it could be due to our Basis Pursuit resolution algorithm, which is different from the one used by the authors, as the equivalent of their R library doesn't exist in Python. Similarly, it could also be due to the way of computing the gev-fit function during the Quantitative Universal Thresholding function. We also reduced the number of simulations, but we do believe that 50 situations (instead of 200) is high enough to allow comparison with the results of the authors. We expected our results to be different but not that much. \n",
        "\n",
        "Since the Robust Lasso zero performs worse than Lasso Zero, we could can also imagine that not tuning $\\lambda$ (as it was suggested by the authors to use $\\lambda = 1$ ) might be the reason of our poor results. "
      ]
    },
    {
      "cell_type": "markdown",
      "metadata": {
        "id": "w1jfuh4yzeG5"
      },
      "source": [
        "## Extension \n",
        "<a class=\"anchor\" id=\"extension\"></a>\n",
        "\n",
        "We have decided to explore an aspect that was not adressed in the paper which is when the covariates are missing at random (MAR). \n",
        "\n",
        "When MAR, we have that the probability of covariate $i$ to be missing depends not on the covariate $i$ but of the other ones. \n",
        "\n",
        "So we have used this probability rule : \n",
        "\n",
        "$$\\mathbb{P}\\left(X_{i j}^{\\mathrm{NA}}=\\mathrm{NA} \\mid X_{i,j+1}=x\\right)=\\frac{1}{1+e^{-a|x|-b}}$$\n",
        "\n",
        "with $a=5$ and $b$ calculated as described earlier. \n",
        "\n",
        "Here is the method we use to create the missing values in $X$ : "
      ]
    },
    {
      "cell_type": "code",
      "execution_count": null,
      "metadata": {
        "id": "9exeTi59zeG5"
      },
      "outputs": [],
      "source": [
        "indexes = [p-1] + list(range(p-2))\n",
        "indexes_MAR = [p-1] + list(range(p-2))\n",
        "X_MAR = X[:,indexes_MAR]\n",
        "\n",
        "U = np.random.uniform(size=(n,p))\n",
        "isNA = U < 1/(1 + np.exp(-a*np.abs(X_MAR) - b))\n",
        "mx = np.ma.masked_array(X, isNA,\n",
        "                        fill_value=np.nan)\n",
        "XNA = mx.filled()"
      ]
    },
    {
      "cell_type": "markdown",
      "metadata": {
        "id": "eYIdlnvhzeG5"
      },
      "source": [
        "And we followed the rest of the same simulation method as we showed earlier. "
      ]
    },
    {
      "cell_type": "code",
      "execution_count": 19,
      "metadata": {
        "id": "X4S11B2yzeG6"
      },
      "outputs": [],
      "source": [
        "# load results \n",
        "\n",
        "# res = {}\n",
        "for s in simulation_parameters['s']:\n",
        "    for pi in simulation_parameters['pi']:\n",
        "            res['s%s_mar_pi%s' % (s, pi)] = pickle.load(open('res_mar_s%s_a5_pi%s.pkl' % (s, pi), \"rb\"))\n",
        "\n",
        "# PSRs_lasso = {}\n",
        "# PSRs_Rlasso = {}\n",
        "\n",
        "for key, elt in res.items(): \n",
        "    PSRs_lasso[key] = np.mean([elt['lass0'][k][4] for k in range(50)])    \n",
        "    PSRs_Rlasso[key] = np.mean([elt['Rlass0'][k][4] for k in range(50)])"
      ]
    },
    {
      "cell_type": "code",
      "execution_count": 20,
      "metadata": {
        "id": "poDKqVB0zeG6",
        "outputId": "4b4c1409-c356-4ef4-9232-6762e1d8e247"
      },
      "outputs": [
        {
          "data": {
            "image/png": "[encoded data removed]",
            "text/plain": [
              "<Figure size 576x576 with 4 Axes>"
            ]
          },
          "metadata": {},
          "output_type": "display_data"
        }
      ],
      "source": [
        "\n",
        "x = np.array([0, 2.5, 5])\n",
        "\n",
        "fig, axs = plt.subplots(2, 2, sharey=True, figsize=(8, 8))\n",
        "#s = 3\n",
        "# pi = 0.05\n",
        "axs[0, 0].plot(x, [PSRs_lasso['s3_a0_pi0.05'], PSRs_lasso['s3_mar_pi0.05'], PSRs_lasso['s3_a5_pi0.05']],  marker=\"d\",c='blue', label='Lass0')\n",
        "axs[0, 0].plot(x, [PSRs_Rlasso['s3_a0_pi0.05'], PSRs_Rlasso['s3_mar_pi0.05'], PSRs_Rlasso['s3_a5_pi0.05']], marker=\"*\", c='black', label='RLass0')\n",
        "axs[0, 0].set_title('s = 3')\n",
        "axs[0, 0].set_xticks([0,2.5,  5])\n",
        "\n",
        "# axs[0, 0].set_ylabel('20% NA')\n",
        "\n",
        "#pi 0.2\n",
        "axs[0, 1].plot(x, [PSRs_lasso['s3_a0_pi0.2'], PSRs_lasso['s3_mar_pi0.2'], PSRs_lasso['s3_a5_pi0.2']], c='blue', marker=\"d\", label='Lass0')\n",
        "axs[0, 1].plot(x , [PSRs_Rlasso['s3_a0_pi0.2'], PSRs_Rlasso['s3_mar_pi0.2'], PSRs_Rlasso['s3_a5_pi0.2']], c='black', marker=\"*\",label='RLass0')\n",
        "axs[0, 1].set_title('s = 10')\n",
        "axs[0, 1].yaxis.set_label_position(\"right\")\n",
        "axs[0, 1].set_xticks([0, 2.5, 5])\n",
        "axs[0, 1].set_ylabel('5% NA')\n",
        "#s = 10\n",
        "# pi = 0.05\n",
        "axs[1, 0].plot(x, [PSRs_lasso['s10_a0_pi0.05'], PSRs_lasso['s10_mar_pi0.05'], PSRs_lasso['s10_a5_pi0.05']],  c='blue', marker=\"d\", label='Lass0')\n",
        "axs[1, 0].plot(x, [PSRs_Rlasso['s10_a0_pi0.05'], PSRs_Rlasso['s10_mar_pi0.05'], PSRs_Rlasso['s10_a5_pi0.05']],  c='black',marker=\"*\", label='RLass0')\n",
        "axs[1, 0].set_xticks([0, 2.5, 5])\n",
        "axs[1, 0].set_xticklabels(['MCAR\\na=0', 'MAR', 'MNAR\\na=5'])\n",
        "\n",
        "#pi 0.2\n",
        "axs[1, 1].plot(x, [PSRs_lasso['s10_a0_pi0.2'], PSRs_lasso['s10_mar_pi0.2'], PSRs_lasso['s10_a5_pi0.2']], c='blue', marker=\"d\", label='Lass0')\n",
        "axs[1, 1].plot(x , [PSRs_Rlasso['s10_a0_pi0.2'], PSRs_Rlasso['s10_mar_pi0.2'], PSRs_Rlasso['s10_a5_pi0.2']], c='black',marker=\"*\", label='RLass0')\n",
        "axs[1, 1].set_xticks([0, 2.5, 5])\n",
        "axs[1, 1].set_xticklabels(['MCAR\\na=0', 'MAR', 'MNAR\\na=5'])\n",
        "axs[1, 1].yaxis.set_label_position(\"right\")\n",
        "axs[1, 1].set_ylabel('20% NA')\n",
        "\n",
        "# Hide x labels and tick labels for top plots and y ticks for right plots.\n",
        "# for ax in axs.flat:\n",
        "#     ax.label_outer()\n",
        "#     ax.set_xlabels(['MCAR \\n a=0', 'MCAR\\na=5'], )\n",
        "fig.suptitle('PSR')\n",
        "\n",
        "plt.ylim(0, 1)\n",
        "plt.legend()\n",
        "plt.show()"
      ]
    },
    {
      "cell_type": "code",
      "execution_count": 21,
      "metadata": {
        "id": "ubazGRSLFrL9"
      },
      "outputs": [],
      "source": [
        "# FDRs_lasso = {}\n",
        "# FDRs_Rlasso = {}\n",
        "\n",
        "for key, elt in res.items(): \n",
        "    FDRs_lasso[key] = np.mean([elt['lass0'][k][3] for k in range(50)])    \n",
        "    FDRs_Rlasso[key] = np.mean([elt['Rlass0'][k][3] for k in range(50)])"
      ]
    },
    {
      "cell_type": "code",
      "execution_count": 22,
      "metadata": {
        "id": "JlTCQwmFFrL9",
        "outputId": "233c21fc-9917-4349-fd31-0d539c699cd6"
      },
      "outputs": [
        {
          "data": {
            "image/png": "[encoded data removed]",
            "text/plain": [
              "<Figure size 576x576 with 4 Axes>"
            ]
          },
          "metadata": {},
          "output_type": "display_data"
        }
      ],
      "source": [
        "x = np.array([0, 2.5, 5])\n",
        "\n",
        "fig, axs = plt.subplots(2, 2, sharey=True, figsize=(8, 8))\n",
        "#s = 3\n",
        "# pi = 0.05\n",
        "axs[0, 0].plot(x, [FDRs_lasso['s3_a0_pi0.05'], FDRs_lasso['s3_mar_pi0.05'], FDRs_lasso['s3_a5_pi0.05']],  marker=\"d\",c='blue', label='Lass0')\n",
        "axs[0, 0].plot(x, [FDRs_Rlasso['s3_a0_pi0.05'], FDRs_Rlasso['s3_mar_pi0.05'], FDRs_Rlasso['s3_a5_pi0.05']], marker=\"*\", c='black', label='RLass0')\n",
        "axs[0, 0].set_title('s = 3')\n",
        "axs[0, 0].set_xticks([0,2.5,  5])\n",
        "# axs[0, 0].set_ylabel('20% NA')\n",
        "\n",
        "#pi 0.2\n",
        "axs[0, 1].plot(x, [FDRs_lasso['s3_a0_pi0.2'], FDRs_lasso['s3_mar_pi0.2'], FDRs_lasso['s3_a5_pi0.2']], c='blue', marker=\"d\", label='Lass0')\n",
        "axs[0, 1].plot(x , [FDRs_Rlasso['s3_a0_pi0.2'], FDRs_Rlasso['s3_mar_pi0.2'], FDRs_Rlasso['s3_a5_pi0.2']], c='black', marker=\"*\",label='RLass0')\n",
        "axs[0, 1].set_title('s = 10')\n",
        "axs[0, 1].set_xticks([0,2.5,  5])\n",
        "axs[0, 1].yaxis.set_label_position(\"right\")\n",
        "axs[0, 1].set_ylabel('5% NA')\n",
        "#s = 10\n",
        "# pi = 0.05\n",
        "axs[1, 0].plot(x, [FDRs_lasso['s10_a0_pi0.05'], FDRs_lasso['s10_mar_pi0.05'], FDRs_lasso['s10_a5_pi0.05']],  c='blue', marker=\"d\", label='Lass0')\n",
        "axs[1, 0].plot(x, [FDRs_Rlasso['s10_a0_pi0.05'], FDRs_Rlasso['s10_mar_pi0.05'], FDRs_Rlasso['s10_a5_pi0.05']],  c='black',marker=\"*\", label='RLass0')\n",
        "axs[1, 0].set_xticks([0, 2.5, 5])\n",
        "axs[1, 0].set_xticklabels(['MCAR\\na=0', 'MAR', 'MNAR\\na=5'])\n",
        "\n",
        "#pi 0.2\n",
        "axs[1, 1].plot(x, [FDRs_lasso['s10_a0_pi0.2'], FDRs_lasso['s10_mar_pi0.2'], FDRs_lasso['s10_a5_pi0.2']], c='blue', marker=\"d\", label='Lass0')\n",
        "axs[1, 1].plot(x , [FDRs_Rlasso['s10_a0_pi0.2'], FDRs_Rlasso['s10_mar_pi0.2'], FDRs_Rlasso['s10_a5_pi0.2']], c='black',marker=\"*\", label='RLass0')\n",
        "axs[1, 1].set_xticks([0, 2.5, 5])\n",
        "axs[1, 1].set_xticklabels(['MCAR\\na=0', 'MAR', 'MNAR\\na=5'])\n",
        "axs[1, 1].yaxis.set_label_position(\"right\")\n",
        "axs[1, 1].set_ylabel('20% NA')\n",
        "\n",
        "# Hide x labels and tick labels for top plots and y ticks for right plots.\n",
        "# for ax in axs.flat:\n",
        "#     ax.label_outer()\n",
        "#     ax.set_xlabels(['MCAR \\n a=0', 'MCAR\\na=5'], )\n",
        "fig.suptitle('FDR')\n",
        "\n",
        "plt.ylim(0, 1)\n",
        "plt.legend()\n",
        "plt.show()"
      ]
    },
    {
      "cell_type": "markdown",
      "metadata": {
        "id": "asClKc68mpcF"
      },
      "source": [
        "We added the results on the MAR method of NA generation to our previous graphs. The performances are quite logical because they are between the results of MCAR and MNAR. In terms of FDR, the results are surprisingly better in the case $s=3$ and $\\pi = 0.05$. We expected the results of the MAR method to be quite similar as the ones of the MNAR method, because the covariates are drawn alike. "
      ]
    },
    {
      "cell_type": "markdown",
      "metadata": {
        "id": "MOhjdtdvFrL9"
      },
      "source": [
        "## Conclusion\n",
        "<a class=\"anchor\" id=\"conclusion\"></a>\n",
        "\n",
        "The authors found a method to deal with the problem of model selection with missing covariates, by introducing corruption. Their model is very eficient to deal with MNAR missing data compared to the state of the art. We have tried to replicate their simulations, and introduced a new method of missing values generation. Our results are not satisfying in the case of robust lasso zero, but our results when it comes to lasso zero. "
      ]
    },
    {
      "cell_type": "markdown",
      "metadata": {
        "id": "sdMdHraazeG6"
      },
      "source": [
        "## Appendix\n",
        "<a class=\"anchor\" id=\"appendix\"></a>\n",
        "### Simulations with $s$-oracle hyperparameter tuning\n",
        "<a class=\"anchor\" id=\"soracle\"></a>"
      ]
    },
    {
      "cell_type": "code",
      "execution_count": null,
      "metadata": {
        "id": "qHpJPZk0zeG6"
      },
      "outputs": [],
      "source": [
        "def tpp(betahat, beta): \n",
        "    s = np.sum(beta != 0)\n",
        "    TPP = np.sum((beta != 0) & (betahat != 0)) / s\n",
        "    return TPP\n",
        "print('Simulation began')\n",
        "\n",
        "save_betas = True \n",
        "\n",
        "a = 5  # 0: MCAR, 5: MNAR\n",
        "pi = 0.05  # expected proportion of missing values in X\n",
        "R = 50 # number of simulations\n",
        "\n",
        "b_idx = np.argmin([np.abs(dfb.loc[a, col]  - pi) for col in dfb.columns])\n",
        "b = dfb.columns[b_idx]  \n",
        "\n",
        "alpha = 0.05  # level for QUTd\n",
        "MCrep = 200  # number of replications for estimating QUT\n",
        "GEVapprox = True  # estimating QUT from a GEV fit\n",
        "\n",
        "if save_betas :\n",
        "    betas_lass = []\n",
        "    betas_rlass = []\n",
        "\n",
        "results = {}\n",
        "results['lass0'] = []\n",
        "results['Rlass0'] = []\n",
        "\n",
        "for r in range(R):\n",
        "    print(r)\n",
        "\n",
        "    # creation of beta\n",
        "    S = np.random.randint(0, p, s)\n",
        "    beta = np.zeros(p)\n",
        "    beta[S] = 1*np.sign(np.random.normal(size=s))\n",
        "\n",
        "    X = np.random.multivariate_normal(np.zeros(p), Sigma, size=(n))\n",
        "    X = X - np.mean(X, axis=0)\n",
        "    X /= np.std(X, axis=0)\n",
        "\n",
        "    y = np.dot(X[:,S], beta[S]) + np.random.normal(size=n, scale=sigma)\n",
        "\n",
        "    U = np.random.uniform(size=(n,p))\n",
        "    isNA = U < 1/(1 + np.exp(-a*np.abs(X) - b))\n",
        "    mx = np.ma.masked_array(X, isNA,\n",
        "                            fill_value=np.nan)\n",
        "    XNA = mx.filled()\n",
        "    \n",
        "    isna = np.isnan(XNA)\n",
        "    isna_row = np.where(np.sum(isna, axis=1) > 0)\n",
        "    Ximp = deepcopy(XNA)\n",
        "    meansx = np.nanmean(Ximp, axis=0)\n",
        "    Ximp -= meansx\n",
        "    Ximp[isna] = 0\n",
        "    Ximp /= np.std(Ximp, axis=0)\n",
        "\n",
        "    subI = np.eye(n)\n",
        "    subI = subI[:, isna_row[0]]\n",
        "    subI -= 1/n\n",
        "\n",
        "    n_sqrt = np.sqrt(n)\n",
        "    lbda = 1\n",
        "\n",
        "    # lbda = 1\n",
        "    # delta = n_sqrt / lbda\n",
        "    deltas = np.hstack([np.linspace(0.1*n_sqrt, n_sqrt, 50)[:-1], np.linspace(n_sqrt, 10*n_sqrt, 50)])\n",
        "    allbetas = np.zeros((p, len(deltas)))\n",
        "    for i in range(len(deltas)):\n",
        "        delta = deltas[i]\n",
        "        print('delta de %s' % delta)\n",
        "\n",
        "        fullX = np.hstack([Ximp, delta * subI])\n",
        "        Rlass0result = lass0(fullX, y, alpha=alpha,\n",
        "                             tau=0,\n",
        "                             standardizeG=True,\n",
        "                             intercept=True,\n",
        "                             ols=False, MCrep=MCrep,\n",
        "                             GEVapprox=GEVapprox,\n",
        "                             var_subset=range(p))\n",
        "        betaRdelta = Rlass0result[0][:p]\n",
        "        thresh = np.sort(np.abs(betaRdelta))[- (s + 1)]\n",
        "        betaRdelta[np.abs(betaRdelta) < thresh] = 0\n",
        "        allbetas[:, i] = betaRdelta\n",
        "    \n",
        "    all_tpp = [tpp(allbetas[:, i], beta) for i  in range(len(deltas))]\n",
        "    best_beta_idx = np.where(all_tpp == np.max(all_tpp))[0] # in case there are several maxes\n",
        "    if len(best_beta_idx) > 1:\n",
        "        deltadiff = np.abs(deltas - n_sqrt)[best_beta_idx]\n",
        "        beta_idx = best_beta_idx[np.argmin(deltadiff)]\n",
        "    else : \n",
        "        beta_idx = best_beta_idx[0]\n",
        "\n",
        "    selected_delta = deltas[beta_idx]\n",
        "    betaRlass0 = allbetas[:, beta_idx]\n",
        "    # deltas = np.hstack([np.linspace(0.1*n_sqrt, n_sqrt, 50)[:-1], np.linspace(n_sqrt, 10*n_sqrt, 50)])\n",
        "    fullX = np.hstack([Ximp, delta * subI])\n",
        "    Rlass0result = lass0(fullX, y, alpha=alpha,\n",
        "                        standardizeG=True,\n",
        "                        intercept=True,\n",
        "                        ols=False, MCrep=40,\n",
        "                        GEVapprox=True,\n",
        "                        var_subset=range(p))\n",
        "    betaRlass0 = Rlass0result[0][:p]\n",
        "\n",
        "    res_R = criteria(betaRlass0, beta)\n",
        "    print(res_R)\n",
        "\n",
        "\n",
        "    lass0result = lass0(Ximp, y, alpha=alpha,\n",
        "                    standardizeG=True,\n",
        "                    intercept=True,\n",
        "                    ols=False, MCrep=40,\n",
        "                    GEVapprox=GEVapprox,\n",
        "                    var_subset=range(p))\n",
        "    \n",
        "    betalass0 = lass0result[0][:p]\n",
        "    print('Lasso zero computed')\n",
        "\n",
        "    res_L = criteria(betalass0, beta)\n",
        "    print(res_L)\n",
        "    if save_betas:\n",
        "        betas_lass.append(betalass0)\n",
        "        betas_rlass.append(betaRlass0)\n",
        "\n",
        "    results['lass0'].append(res_L)\n",
        "    results['Rlass0'].append(res_R)\n",
        "\n",
        "with open('res_a%s_pi%s.pkl' % (a,pi), 'wb') as f: \n",
        "    pickle.dump(results, f)"
      ]
    }
  ],
  "metadata": {
    "colab": {
      "collapsed_sections": [],
      "name": "project_graphe.ipynb",
      "provenance": []
    },
    "interpreter": {
      "hash": "825ae1b3fb815831807350f794d18662d073b150cb75339ac2c860dcd2620638"
    },
    "kernelspec": {
      "display_name": "Python 3 (ipykernel)",
      "language": "python",
      "name": "python3"
    },
    "language_info": {
      "codemirror_mode": {
        "name": "ipython",
        "version": 3
      },
      "file_extension": ".py",
      "mimetype": "text/x-python",
      "name": "python",
      "nbconvert_exporter": "python",
      "pygments_lexer": "ipython3",
      "version": "3.9.7"
    }
  },
  "nbformat": 4,
  "nbformat_minor": 0
}
